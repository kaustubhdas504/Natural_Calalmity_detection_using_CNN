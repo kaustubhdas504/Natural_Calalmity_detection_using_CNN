{
 "cells": [
  {
   "attachments": {},
   "cell_type": "markdown",
   "metadata": {},
   "source": [
    "# Disaster Classification"
   ]
  },
  {
   "cell_type": "code",
   "execution_count": 1,
   "metadata": {
    "execution": {
     "iopub.execute_input": "2021-08-29T07:17:55.123429Z",
     "iopub.status.busy": "2021-08-29T07:17:55.123115Z",
     "iopub.status.idle": "2021-08-29T07:17:56.429065Z",
     "shell.execute_reply": "2021-08-29T07:17:56.428165Z",
     "shell.execute_reply.started": "2021-08-29T07:17:55.123359Z"
    }
   },
   "outputs": [],
   "source": [
    "import torch\n",
    "import torch.nn as nn\n",
    "import torch.nn.functional as F\n",
    "from torch.utils.data import DataLoader\n",
    "from torchvision import datasets, transforms, models\n",
    "from torchvision.utils import make_grid\n",
    "\n",
    "import shutil\n",
    "import os\n",
    "from PIL import Image, ImageFile\n",
    "ImageFile.LOAD_TRUNCATED_IMAGES = True\n",
    "from IPython.display import display\n",
    "\n",
    "import tensorflow as tf\n",
    "from tensorflow.keras import datasets, layers, models\n",
    "import numpy as np\n",
    "import matplotlib.pyplot as plt\n",
    "\n",
    "import numpy as np\n",
    "import pandas as pd\n",
    "import matplotlib.pyplot as plt \n",
    "%matplotlib inline\n",
    "import warnings\n",
    "warnings.filterwarnings('ignore')"
   ]
  },
  {
   "cell_type": "markdown",
   "metadata": {},
   "source": [
    "### Data Preprocessing"
   ]
  },
  {
   "cell_type": "code",
   "execution_count": null,
   "metadata": {
    "execution": {
     "iopub.execute_input": "2021-08-29T07:18:01.659250Z",
     "iopub.status.busy": "2021-08-29T07:18:01.658919Z",
     "iopub.status.idle": "2021-08-29T07:19:42.723283Z",
     "shell.execute_reply": "2021-08-29T07:19:42.722460Z",
     "shell.execute_reply.started": "2021-08-29T07:18:01.659218Z"
    }
   },
   "outputs": [],
   "source": [
    "def main():\n",
    "\n",
    "    count = 0\n",
    "    \n",
    "    for root, dirs, files in os.walk(\"C:/Users/RAHUL BAYAS/Downloads/Completed/Completed/Natural calamity/Image-Processing-Project_19BCE1330_19BCE1037-main/DisasterModel\", topdown=False):\n",
    "        for name in files:\n",
    "                try:\n",
    "                    img = Image.open(os.path.join(root, name))\n",
    "                    img.verify()\n",
    "                except (IOError, SyntaxError) as e:\n",
    "                    \n",
    "                    # Count number of corrupt images\n",
    "                    count = count + 1\n",
    "                    print('Bad file:', name)\n",
    "                    \n",
    "                    \n",
    "    print(f'Number of corrupted images found = {count}')\n",
    "\n",
    "if __name__ == '__main__':\n",
    "    main()"
   ]
  },
  {
   "cell_type": "markdown",
   "metadata": {},
   "source": [
    "### Transformations"
   ]
  },
  {
   "cell_type": "code",
   "execution_count": 8,
   "metadata": {
    "execution": {
     "iopub.execute_input": "2021-08-29T07:20:01.360051Z",
     "iopub.status.busy": "2021-08-29T07:20:01.359721Z",
     "iopub.status.idle": "2021-08-29T07:20:01.366402Z",
     "shell.execute_reply": "2021-08-29T07:20:01.365587Z",
     "shell.execute_reply.started": "2021-08-29T07:20:01.360021Z"
    }
   },
   "outputs": [],
   "source": [
    "train_transform = transforms.Compose([\n",
    "    transforms.RandomRotation(30),\n",
    "    transforms.RandomHorizontalFlip(),\n",
    "    transforms.Resize(180),\n",
    "    transforms.CenterCrop(180),\n",
    "    transforms.ToTensor(),\n",
    "    transforms.Normalize([0.485, 0.456, 0.406],\n",
    "                        [0.229, 0.224, 0.225])\n",
    "])\n",
    "\n",
    "test_transform = transforms.Compose([\n",
    "    transforms.Resize(180),\n",
    "    transforms.CenterCrop(180),\n",
    "    transforms.ToTensor(),\n",
    "    transforms.Normalize([0.485, 0.456, 0.406],\n",
    "                        [0.229, 0.224, 0.225])\n",
    "])"
   ]
  },
  {
   "cell_type": "markdown",
   "metadata": {},
   "source": [
    "## Disastermodel()"
   ]
  },
  {
   "cell_type": "markdown",
   "metadata": {},
   "source": [
    "### Prepare Test and Train Sets, Loaders"
   ]
  },
  {
   "cell_type": "markdown",
   "metadata": {},
   "source": [
    "splitfolders.ratio('../Data/Disaster_Dataset', output='../Data/Disasters', seed=1337, \n",
    "                               ratio=(.8, .2), group_prefix=None) "
   ]
  },
  {
   "cell_type": "markdown",
   "metadata": {},
   "source": [
    "import splitfolders\n",
    "splitfolders.ratio('D:/VIT/5th SEM/CSE4019/Project/Disaster_Dataset', output='D:/VIT/5th SEM/CSE4019/Project/Data/Disasters', seed=1337, ratio=(.8, .2), group_prefix=None)"
   ]
  },
  {
   "cell_type": "code",
   "execution_count": null,
   "metadata": {
    "execution": {
     "iopub.execute_input": "2021-08-29T07:20:05.345196Z",
     "iopub.status.busy": "2021-08-29T07:20:05.344866Z",
     "iopub.status.idle": "2021-08-29T07:20:12.530490Z",
     "shell.execute_reply": "2021-08-29T07:20:12.529596Z",
     "shell.execute_reply.started": "2021-08-29T07:20:05.345165Z"
    }
   },
   "outputs": [],
   "source": [
    "# root = 'D:/VIT/5th SEM/CSE4019/Project/Data/Disasters'\n",
    "root = 'C:/Users/RAHUL BAYAS/Downloads/Completed/Completed/Natural calamity/DisasterModel'\n",
    "train= datasets.ImageFolder(os.path.join(root, 'train'), transform = train_transform)\n",
    "test= datasets.ImageFolder(os.path.join(root, 'test'), transform = test_transform)\n",
    "\n",
    "\n",
    "print(class_names)\n",
    "print(f'Training images available: {len(train_data)}')\n",
    "print(f'Testing images available:  {len(test_data)}')"
   ]
  },
  {
   "cell_type": "code",
   "execution_count": 10,
   "metadata": {
    "execution": {
     "iopub.execute_input": "2021-08-29T07:20:19.219224Z",
     "iopub.status.busy": "2021-08-29T07:20:19.218908Z",
     "iopub.status.idle": "2021-08-29T07:20:19.279301Z",
     "shell.execute_reply": "2021-08-29T07:20:19.278429Z",
     "shell.execute_reply.started": "2021-08-29T07:20:19.219193Z"
    }
   },
   "outputs": [],
   "source": [
    "use_cuda = torch.cuda.is_available()\n",
    "device = torch.device('cuda:0' if use_cuda else 'cpu')"
   ]
  },
  {
   "cell_type": "code",
   "execution_count": 11,
   "metadata": {},
   "outputs": [
    {
     "data": {
      "text/plain": [
       "False"
      ]
     },
     "execution_count": 11,
     "metadata": {},
     "output_type": "execute_result"
    }
   ],
   "source": [
    "use_cuda"
   ]
  },
  {
   "cell_type": "markdown",
   "metadata": {},
   "source": [
    "### Define Model"
   ]
  },
  {
   "cell_type": "code",
   "execution_count": null,
   "metadata": {},
   "outputs": [],
   "source": [
    "model = Sequential()"
   ]
  },
  {
   "cell_type": "code",
   "execution_count": null,
   "metadata": {},
   "outputs": [],
   "source": [
    "model.add(layers.Conv2D(32, (3, 3), activation = 'relu', input_shape= (180, 180, 3)))\n",
    "model.add(layers.MaxPooling2D((2, 2)))\n",
    "model.add(layers.Conv2D(64, (3, 3), activation = 'relu'))\n",
    "model.add(layers.MaxPooling2D((2, 2)))\n",
    "model.add(layers.Conv2D(128, (3, 3), activation= 'relu'))\n",
    "model.add(layers.MaxPooling2D((2, 2)))\n",
    "model.add(layers.Conv2D(128, (3, 3), activation= 'relu'))\n",
    "model.add(layers.MaxPooling2D((2, 2)))\n",
    "model.add(layers.Conv2D(256, (3, 3), activation = 'relu'))\n",
    "model.add(layers.MaxPooling2D((2, 2)))\n",
    "model.add(layers.Flatten())\n",
    "model.add(layers.Dropout(0.3))\n",
    "model.add(layers.Dense(512, activation = 'relu'))\n",
    "model.add(layers.Dense(4, activation = 'softmax'))"
   ]
  },
  {
   "cell_type": "code",
   "execution_count": null,
   "metadata": {},
   "outputs": [],
   "source": [
    "model.compile('adam', loss=tf.losses.BinaryCrossentropy(), metrics=['accuracy'])"
   ]
  },
  {
   "cell_type": "code",
   "execution_count": null,
   "metadata": {},
   "outputs": [],
   "source": [
    "model.summary()"
   ]
  },
  {
   "cell_type": "code",
   "execution_count": null,
   "metadata": {},
   "outputs": [],
   "source": [
    "model.fit(train, epochs=10, validation_data=test)"
   ]
  },
  {
   "cell_type": "code",
   "execution_count": null,
   "metadata": {},
   "outputs": [],
   "source": [
    "model.save('best_model.h5')"
   ]
  },
  {
   "cell_type": "code",
   "execution_count": null,
   "metadata": {},
   "outputs": [],
   "source": []
  },
  {
   "cell_type": "code",
   "execution_count": null,
   "metadata": {},
   "outputs": [],
   "source": []
  },
  {
   "cell_type": "code",
   "execution_count": 12,
   "metadata": {
    "execution": {
     "iopub.execute_input": "2021-08-29T07:20:22.463237Z",
     "iopub.status.busy": "2021-08-29T07:20:22.462890Z",
     "iopub.status.idle": "2021-08-29T07:20:22.470871Z",
     "shell.execute_reply": "2021-08-29T07:20:22.470055Z",
     "shell.execute_reply.started": "2021-08-29T07:20:22.463204Z"
    }
   },
   "outputs": [],
   "source": []
  },
  {
   "cell_type": "code",
   "execution_count": null,
   "metadata": {},
   "outputs": [],
   "source": []
  },
  {
   "cell_type": "code",
   "execution_count": null,
   "metadata": {
    "execution": {
     "iopub.execute_input": "2021-08-29T07:20:22.858642Z",
     "iopub.status.busy": "2021-08-29T07:20:22.858321Z",
     "iopub.status.idle": "2021-08-29T07:20:27.163090Z",
     "shell.execute_reply": "2021-08-29T07:20:27.162316Z",
     "shell.execute_reply.started": "2021-08-29T07:20:22.858611Z"
    }
   },
   "outputs": [],
   "source": []
  },
  {
   "attachments": {},
   "cell_type": "markdown",
   "metadata": {},
   "source": []
  },
  {
   "cell_type": "code",
   "execution_count": 14,
   "metadata": {
    "execution": {
     "iopub.execute_input": "2021-08-29T07:20:29.060501Z",
     "iopub.status.busy": "2021-08-29T07:20:29.060167Z",
     "iopub.status.idle": "2021-08-29T07:20:29.065473Z",
     "shell.execute_reply": "2021-08-29T07:20:29.064668Z",
     "shell.execute_reply.started": "2021-08-29T07:20:29.060468Z"
    }
   },
   "outputs": [],
   "source": []
  },
  {
   "attachments": {},
   "cell_type": "markdown",
   "metadata": {},
   "source": []
  },
  {
   "cell_type": "code",
   "execution_count": null,
   "metadata": {
    "execution": {
     "iopub.execute_input": "2021-08-29T07:20:32.322752Z",
     "iopub.status.busy": "2021-08-29T07:20:32.322404Z",
     "iopub.status.idle": "2021-08-29T07:55:55.311576Z",
     "shell.execute_reply": "2021-08-29T07:55:55.310730Z",
     "shell.execute_reply.started": "2021-08-29T07:20:32.322719Z"
    },
    "scrolled": true
   },
   "outputs": [],
   "source": []
  },
  {
   "cell_type": "code",
   "execution_count": 31,
   "metadata": {
    "execution": {
     "iopub.execute_input": "2021-08-29T07:57:07.395021Z",
     "iopub.status.busy": "2021-08-29T07:57:07.394623Z",
     "iopub.status.idle": "2021-08-29T07:57:07.424199Z",
     "shell.execute_reply": "2021-08-29T07:57:07.423382Z",
     "shell.execute_reply.started": "2021-08-29T07:57:07.394988Z"
    }
   },
   "outputs": [],
   "source": []
  },
  {
   "attachments": {},
   "cell_type": "markdown",
   "metadata": {},
   "source": []
  },
  {
   "cell_type": "code",
   "execution_count": 17,
   "metadata": {},
   "outputs": [],
   "source": []
  },
  {
   "cell_type": "code",
   "execution_count": 18,
   "metadata": {},
   "outputs": [],
   "source": []
  },
  {
   "cell_type": "code",
   "execution_count": null,
   "metadata": {},
   "outputs": [],
   "source": []
  },
  {
   "cell_type": "code",
   "execution_count": null,
   "metadata": {
    "execution": {
     "iopub.execute_input": "2021-08-29T07:57:09.658468Z",
     "iopub.status.busy": "2021-08-29T07:57:09.658152Z",
     "iopub.status.idle": "2021-08-29T07:57:09.851482Z",
     "shell.execute_reply": "2021-08-29T07:57:09.850547Z",
     "shell.execute_reply.started": "2021-08-29T07:57:09.658437Z"
    }
   },
   "outputs": [],
   "source": []
  },
  {
   "cell_type": "code",
   "execution_count": null,
   "metadata": {
    "execution": {
     "iopub.execute_input": "2021-08-29T07:57:14.295451Z",
     "iopub.status.busy": "2021-08-29T07:57:14.295123Z",
     "iopub.status.idle": "2021-08-29T07:57:14.466486Z",
     "shell.execute_reply": "2021-08-29T07:57:14.465602Z",
     "shell.execute_reply.started": "2021-08-29T07:57:14.295419Z"
    }
   },
   "outputs": [],
   "source": []
  },
  {
   "cell_type": "code",
   "execution_count": null,
   "metadata": {
    "execution": {
     "iopub.execute_input": "2021-08-29T07:57:17.756756Z",
     "iopub.status.busy": "2021-08-29T07:57:17.756427Z",
     "iopub.status.idle": "2021-08-29T07:57:17.764046Z",
     "shell.execute_reply": "2021-08-29T07:57:17.763110Z",
     "shell.execute_reply.started": "2021-08-29T07:57:17.756723Z"
    },
    "scrolled": true
   },
   "outputs": [],
   "source": []
  },
  {
   "attachments": {},
   "cell_type": "markdown",
   "metadata": {},
   "source": []
  },
  {
   "cell_type": "code",
   "execution_count": 23,
   "metadata": {},
   "outputs": [],
   "source": []
  },
  {
   "cell_type": "code",
   "execution_count": 24,
   "metadata": {},
   "outputs": [],
   "source": []
  },
  {
   "cell_type": "code",
   "execution_count": null,
   "metadata": {},
   "outputs": [],
   "source": []
  },
  {
   "cell_type": "markdown",
   "metadata": {},
   "source": []
  },
  {
   "cell_type": "markdown",
   "metadata": {},
   "source": []
  },
  {
   "cell_type": "code",
   "execution_count": null,
   "metadata": {
    "execution": {
     "iopub.execute_input": "2021-08-29T08:00:14.846458Z",
     "iopub.status.busy": "2021-08-29T08:00:14.846138Z",
     "iopub.status.idle": "2021-08-29T08:00:15.028707Z",
     "shell.execute_reply": "2021-08-29T08:00:15.027732Z",
     "shell.execute_reply.started": "2021-08-29T08:00:14.846426Z"
    }
   },
   "outputs": [],
   "source": []
  },
  {
   "cell_type": "code",
   "execution_count": 27,
   "metadata": {},
   "outputs": [],
   "source": []
  },
  {
   "cell_type": "code",
   "execution_count": 28,
   "metadata": {},
   "outputs": [],
   "source": []
  },
  {
   "cell_type": "code",
   "execution_count": null,
   "metadata": {},
   "outputs": [],
   "source": []
  }
 ],
 "metadata": {
  "kernelspec": {
   "display_name": "Python 3.8.10 64-bit",
   "language": "python",
   "name": "python3"
  },
  "language_info": {
   "codemirror_mode": {
    "name": "ipython",
    "version": 3
   },
   "file_extension": ".py",
   "mimetype": "text/x-python",
   "name": "python",
   "nbconvert_exporter": "python",
   "pygments_lexer": "ipython3",
   "version": "3.9.6"
  },
  "vscode": {
   "interpreter": {
    "hash": "703732574fcbf88eb6f6200551e5129a160c09943e8dd298280e575a7f000c74"
   }
  }
 },
 "nbformat": 4,
 "nbformat_minor": 4
}
